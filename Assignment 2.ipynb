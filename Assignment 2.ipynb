{
 "cells": [
  {
   "cell_type": "markdown",
   "id": "c441e4ca",
   "metadata": {},
   "source": [
    "# Assignment 2\n",
    "* In this assignment you will be working with three data files from iMDB:\n",
    "    * cast.csv\n",
    "    * release_dates.csv\n",
    "    * titles.csv\n",
    "* Using the appropriate file(s), answer the following questions\n",
    "* Some questions can be completed with one-liners while others are a bit more involved\n",
    "* Where appropriate, answers should also provide brief commentary\n",
    "* Exclude data that doen't make senss, i.e. data from the future\n",
    "* Once complete upload this notebook to your classwork Github repo and post the link on Canvas "
   ]
  },
  {
   "cell_type": "code",
   "execution_count": 118,
   "id": "f4594546",
   "metadata": {},
   "outputs": [],
   "source": [
    "import pandas as pd\n",
    "import matplotlib.pyplot as plt"
   ]
  },
  {
   "cell_type": "markdown",
   "id": "7f3efd04",
   "metadata": {},
   "source": [
    "### 1. Conduct a high level assessment of the three data files, i.e. how many records are there, what kind of data, etc. Summarize your findings with annotation. "
   ]
  },
  {
   "cell_type": "code",
   "execution_count": 4,
   "id": "03bc8314",
   "metadata": {},
   "outputs": [],
   "source": [
    "cast = pd.read_csv(\"data/cast.csv\")\n",
    "r_dates = pd.read_csv(\"data/release_dates.csv\")\n",
    "titles = pd.read_csv(\"data/titles.csv\")\n",
    "\n"
   ]
  },
  {
   "cell_type": "markdown",
   "id": "1bd28e5b-a61a-4823-b43c-a4244cf3380f",
   "metadata": {},
   "source": [
    "#### Cast"
   ]
  },
  {
   "cell_type": "code",
   "execution_count": 6,
   "id": "7e24a008-6e08-4a5d-9b74-35b27c99057d",
   "metadata": {},
   "outputs": [
    {
     "name": "stdout",
     "output_type": "stream",
     "text": [
      "                  title  year      name   type                character     n\n",
      "0        Closet Monster  2015  Buffy #1  actor                  Buffy 4  31.0\n",
      "1       Suuri illusioni  1985    Homo $  actor                   Guests  22.0\n",
      "2   Battle of the Sexes  2017   $hutter  actor          Bobby Riggs Fan  10.0\n",
      "3  Secret in Their Eyes  2015   $hutter  actor          2002 Dodger Fan   NaN\n",
      "4            Steve Jobs  2015   $hutter  actor  1988 Opera House Patron   NaN\n",
      "<class 'pandas.core.frame.DataFrame'>\n",
      "RangeIndex: 3442902 entries, 0 to 3442901\n",
      "Data columns (total 6 columns):\n",
      " #   Column     Dtype  \n",
      "---  ------     -----  \n",
      " 0   title      object \n",
      " 1   year       int64  \n",
      " 2   name       object \n",
      " 3   type       object \n",
      " 4   character  object \n",
      " 5   n          float64\n",
      "dtypes: float64(1), int64(1), object(4)\n",
      "memory usage: 157.6+ MB\n",
      "None\n"
     ]
    }
   ],
   "source": [
    "print(cast.head(5))\n",
    "print(cast.info())"
   ]
  },
  {
   "cell_type": "code",
   "execution_count": 7,
   "id": "ad2357b3-c173-4c23-b5c3-a4bc3ea01afc",
   "metadata": {},
   "outputs": [
    {
     "data": {
      "text/plain": [
       "title        3442896\n",
       "year         3442902\n",
       "name         3442902\n",
       "type         3442902\n",
       "character    3442894\n",
       "n            2115119\n",
       "dtype: int64"
      ]
     },
     "execution_count": 7,
     "metadata": {},
     "output_type": "execute_result"
    }
   ],
   "source": [
    "cast.count()"
   ]
  },
  {
   "cell_type": "code",
   "execution_count": 8,
   "id": "ed91c481-4b36-4818-9cb5-99dd0c390409",
   "metadata": {},
   "outputs": [
    {
     "data": {
      "text/plain": [
       "year\n",
       "2017    136658\n",
       "2018     43518\n",
       "2019      1406\n",
       "2020       188\n",
       "2021        34\n",
       "2022        16\n",
       "2023         2\n",
       "2024         8\n",
       "2025         9\n",
       "2115         3\n",
       "Name: count, dtype: int64"
      ]
     },
     "execution_count": 8,
     "metadata": {},
     "output_type": "execute_result"
    },
    {
     "data": {
      "image/png": "[encoded data removed]",
      "text/plain": [
       "<Figure size 640x480 with 1 Axes>"
      ]
     },
     "metadata": {},
     "output_type": "display_data"
    }
   ],
   "source": [
    "cast['year'].value_counts().sort_index().plot()\n",
    "cast['year'].value_counts().sort_index().tail(10)"
   ]
  },
  {
   "cell_type": "code",
   "execution_count": 9,
   "id": "7235944c-6b41-47d1-8ab5-8e406c80735a",
   "metadata": {},
   "outputs": [],
   "source": [
    "cast_copy = cast[cast['year'] < 2018].copy()"
   ]
  },
  {
   "cell_type": "markdown",
   "id": "e9e6d4a0-b399-4d07-a28e-62641d02b385",
   "metadata": {},
   "source": [
    "##### The cast csv file has data that includes cast member names, the name of the film they starred in, the release date of the film, whether they are an actor or actress, and their billing number. \n",
    "\n",
    "##### Looking at the release years and the number of films released per year, the count for the number of films launched increased significantly between 1920 to 1940, then steadies out, and then rockets up after the 1990s. There is a precipitous decline after 2017, which tells me the data is either incomplete after 2017. Therefore, I removed all data after 2017."
   ]
  },
  {
   "cell_type": "markdown",
   "id": "40005170-62db-4320-90e0-21f4d29a9a81",
   "metadata": {},
   "source": [
    "#### Dates"
   ]
  },
  {
   "cell_type": "code",
   "execution_count": 11,
   "id": "aba28290-5b16-4c53-a20c-12708ae22bc5",
   "metadata": {},
   "outputs": [
    {
     "name": "stdout",
     "output_type": "stream",
     "text": [
      "<class 'pandas.core.frame.DataFrame'>\n",
      "RangeIndex: 443486 entries, 0 to 443485\n",
      "Data columns (total 4 columns):\n",
      " #   Column   Non-Null Count   Dtype \n",
      "---  ------   --------------   ----- \n",
      " 0   title    443485 non-null  object\n",
      " 1   year     443486 non-null  int64 \n",
      " 2   country  443486 non-null  object\n",
      " 3   date     443486 non-null  object\n",
      "dtypes: int64(1), object(3)\n",
      "memory usage: 13.5+ MB\n",
      "None\n",
      "\n",
      "\n",
      "                     title  year      country        date\n",
      "0   #73, Shaanthi Nivaasa  2007        India  2007-06-15\n",
      "1                   #BKKY  2016     Cambodia  2017-10-12\n",
      "2                 #Beings  2015      Romania  2015-01-29\n",
      "3               #Captured  2017          USA  2017-09-05\n",
      "4  #Ewankosau saranghaeyo  2015  Philippines  2015-01-21\n",
      "\n",
      "\n",
      " title      443485\n",
      "year       443486\n",
      "country    443486\n",
      "date       443486\n",
      "dtype: int64\n"
     ]
    }
   ],
   "source": [
    "print(r_dates.info())\n",
    "print('\\n\\n',r_dates.head(5))\n",
    "print('\\n\\n',r_dates.count())"
   ]
  },
  {
   "cell_type": "code",
   "execution_count": 12,
   "id": "51d33ee1-9d2d-4a76-b4ba-6634e9b0f817",
   "metadata": {},
   "outputs": [
    {
     "name": "stdout",
     "output_type": "stream",
     "text": [
      "country\n",
      "USA         42241\n",
      "France      23739\n",
      "Finland     18544\n",
      "Sweden      18337\n",
      "Portugal    18123\n",
      "Denmark     17683\n",
      "Japan       17007\n",
      "UK          15640\n",
      "Italy       13257\n",
      "India       12886\n",
      "Name: count, dtype: int64\n",
      "\n",
      " Number of Countries In Dataset that released films:  200\n"
     ]
    }
   ],
   "source": [
    "print(r_dates['country'].value_counts().head(10))\n",
    "print('\\n','Number of Countries In Dataset that released films: ', len(r_dates['country'].unique()))"
   ]
  },
  {
   "cell_type": "markdown",
   "id": "b6886f9f-e808-4d02-b0e8-e72dd956224c",
   "metadata": {},
   "source": [
    "##### The dataset for release dates contains 443486 entries and includes film titles, release year, country, and release date. \n",
    "\n",
    "##### When ranking countries by number of movies released, the US far exceeds movies released in other countries. More movies were released in the US than the next two top releasing countries combined."
   ]
  },
  {
   "cell_type": "code",
   "execution_count": 13,
   "id": "e48c8c57-d3fb-491f-b223-73efecae1943",
   "metadata": {},
   "outputs": [
    {
     "name": "stdout",
     "output_type": "stream",
     "text": [
      "<class 'pandas.core.frame.DataFrame'>\n",
      "RangeIndex: 226013 entries, 0 to 226012\n",
      "Data columns (total 2 columns):\n",
      " #   Column  Non-Null Count   Dtype \n",
      "---  ------  --------------   ----- \n",
      " 0   title   226012 non-null  object\n",
      " 1   year    226013 non-null  int64 \n",
      "dtypes: int64(1), object(1)\n",
      "memory usage: 3.4+ MB\n",
      "None\n",
      "\n",
      "\n",
      "                       title  year\n",
      "0           Ankara ekspresi  1952\n",
      "1  Ans Vaterland, ans teure  1915\n",
      "2               Miss Mohini  2002\n",
      "3             La vera madre  1999\n",
      "4              O Amerikanos  1993\n",
      "\n",
      "\n",
      " title    226012\n",
      "year     226013\n",
      "dtype: int64\n"
     ]
    }
   ],
   "source": [
    "print(titles.info())\n",
    "print('\\n\\n',titles.head(5))\n",
    "print('\\n\\n',titles.count())"
   ]
  },
  {
   "cell_type": "markdown",
   "id": "42e7bcd8-bc40-49ac-9694-34050a422f9e",
   "metadata": {},
   "source": [
    "##### The dataset for Titles includes 226012 entries and only includes data for film title and its release year."
   ]
  },
  {
   "cell_type": "code",
   "execution_count": 15,
   "id": "401d3e7c-a240-4ddd-a117-ca269fc885cf",
   "metadata": {},
   "outputs": [],
   "source": [
    "all_data = pd.concat([titles, r_dates], ignore_index=True)"
   ]
  },
  {
   "cell_type": "markdown",
   "id": "5d013182-df32-470d-86e5-1a27aba818d8",
   "metadata": {},
   "source": [
    "##### Compare the number of titles included among datasets"
   ]
  },
  {
   "cell_type": "code",
   "execution_count": 17,
   "id": "ca6c7f09-b021-4fd1-b6d4-89574045811d",
   "metadata": {},
   "outputs": [
    {
     "name": "stdout",
     "output_type": "stream",
     "text": [
      "cast:  168254 \n",
      "r_dates 125163 \n",
      "titles:  207630\n"
     ]
    }
   ],
   "source": [
    "print('cast: ', cast['title'].nunique(),'\\nr_dates',r_dates['title'].nunique(),'\\ntitles: ', titles['title'].nunique())"
   ]
  },
  {
   "cell_type": "markdown",
   "id": "b0dd0b74-69bf-4bcd-ae5f-4e092273aea6",
   "metadata": {},
   "source": [
    "##### Even though the Titles dataset has the fewest number of entries, it includes the largest number of listed titles. This means the other datasets are including repeat titles. This is because \"Cast\" will include multiple entries for a film title, covering different cast memers. \"Release Date\" includes multiple entries for a title, differentiating the country of release and date of release in that country."
   ]
  },
  {
   "cell_type": "markdown",
   "id": "8949aee1",
   "metadata": {},
   "source": [
    "### 2. How many movies have the title North by Northwest"
   ]
  },
  {
   "cell_type": "code",
   "execution_count": 160,
   "id": "712cba84",
   "metadata": {},
   "outputs": [
    {
     "name": "stdout",
     "output_type": "stream",
     "text": [
      "There is 1 movie(s) that has the title \"North by Northwest\"\n"
     ]
    }
   ],
   "source": [
    "nnw_count = titles[titles['title'] == \"North by Northwest\"]['title'].count()\n",
    "print(f'There is {nnw_count} movie(s) that has the title \"North by Northwest\"')"
   ]
  },
  {
   "cell_type": "markdown",
   "id": "0ec92963-3257-422d-a002-36dfc074f155",
   "metadata": {},
   "source": [
    "##### There is only one title with the exact name \"North by Northwest\""
   ]
  },
  {
   "cell_type": "markdown",
   "id": "651191f3",
   "metadata": {},
   "source": [
    "### 3. How many version of Hamlet are there, when was the first made? the last?"
   ]
  },
  {
   "cell_type": "code",
   "execution_count": 22,
   "id": "1e421672",
   "metadata": {},
   "outputs": [
    {
     "name": "stdout",
     "output_type": "stream",
     "text": [
      "        title  year\n",
      "79939  Hamlet  1910\n",
      "\n",
      "\n",
      "                                 title  year\n",
      "202555  Hamlet: The Fall of a Sparrow  2018\n"
     ]
    }
   ],
   "source": [
    "print(titles[titles['title'].str.contains('Hamlet', case=False, na=False)].sort_values('year').head(1))\n",
    "print('\\n\\n',titles[titles['title'].str.contains('Hamlet', case=False, na=False)].sort_values('year').tail(1))"
   ]
  },
  {
   "cell_type": "code",
   "execution_count": 23,
   "id": "5276de41-262b-4033-b5bf-9cc01a065087",
   "metadata": {},
   "outputs": [
    {
     "name": "stdout",
     "output_type": "stream",
     "text": [
      "The number of Hamlet titles is 55\n"
     ]
    }
   ],
   "source": [
    "num_titles = titles['title'].str.contains('Hamlet', case=False, na=False).sum()\n",
    "print(f'The number of Hamlet titles is {num_titles}')"
   ]
  },
  {
   "cell_type": "markdown",
   "id": "ad47c804-26ad-40b2-aa72-6deb035ca2e8",
   "metadata": {},
   "source": [
    "The first hamlet was made in 1910 and the last one was made in 2018"
   ]
  },
  {
   "cell_type": "markdown",
   "id": "5650b610",
   "metadata": {},
   "source": [
    "### 4. List all the movies called Treasure Island from oldest to newest"
   ]
  },
  {
   "cell_type": "code",
   "execution_count": 25,
   "id": "636611d9",
   "metadata": {},
   "outputs": [
    {
     "data": {
      "text/html": [
       "<div>\n",
       "<style scoped>\n",
       "    .dataframe tbody tr th:only-of-type {\n",
       "        vertical-align: middle;\n",
       "    }\n",
       "\n",
       "    .dataframe tbody tr th {\n",
       "        vertical-align: top;\n",
       "    }\n",
       "\n",
       "    .dataframe thead th {\n",
       "        text-align: right;\n",
       "    }\n",
       "</style>\n",
       "<table border=\"1\" class=\"dataframe\">\n",
       "  <thead>\n",
       "    <tr style=\"text-align: right;\">\n",
       "      <th></th>\n",
       "      <th>title</th>\n",
       "      <th>year</th>\n",
       "    </tr>\n",
       "  </thead>\n",
       "  <tbody>\n",
       "    <tr>\n",
       "      <th>180911</th>\n",
       "      <td>Treasure Island</td>\n",
       "      <td>1918</td>\n",
       "    </tr>\n",
       "    <tr>\n",
       "      <th>108853</th>\n",
       "      <td>Treasure Island</td>\n",
       "      <td>1920</td>\n",
       "    </tr>\n",
       "    <tr>\n",
       "      <th>87953</th>\n",
       "      <td>Treasure Island</td>\n",
       "      <td>1934</td>\n",
       "    </tr>\n",
       "    <tr>\n",
       "      <th>126321</th>\n",
       "      <td>Treasure Island</td>\n",
       "      <td>1950</td>\n",
       "    </tr>\n",
       "    <tr>\n",
       "      <th>190233</th>\n",
       "      <td>Treasure Island</td>\n",
       "      <td>1972</td>\n",
       "    </tr>\n",
       "    <tr>\n",
       "      <th>122150</th>\n",
       "      <td>Treasure Island</td>\n",
       "      <td>1973</td>\n",
       "    </tr>\n",
       "    <tr>\n",
       "      <th>52099</th>\n",
       "      <td>Treasure Island</td>\n",
       "      <td>1985</td>\n",
       "    </tr>\n",
       "    <tr>\n",
       "      <th>36752</th>\n",
       "      <td>Treasure Island</td>\n",
       "      <td>1999</td>\n",
       "    </tr>\n",
       "  </tbody>\n",
       "</table>\n",
       "</div>"
      ],
      "text/plain": [
       "                  title  year\n",
       "180911  Treasure Island  1918\n",
       "108853  Treasure Island  1920\n",
       "87953   Treasure Island  1934\n",
       "126321  Treasure Island  1950\n",
       "190233  Treasure Island  1972\n",
       "122150  Treasure Island  1973\n",
       "52099   Treasure Island  1985\n",
       "36752   Treasure Island  1999"
      ]
     },
     "execution_count": 25,
     "metadata": {},
     "output_type": "execute_result"
    }
   ],
   "source": [
    "titles[titles['title'] == 'Treasure Island'].sort_values('year')"
   ]
  },
  {
   "cell_type": "markdown",
   "id": "a94f4524",
   "metadata": {},
   "source": [
    "### 5. How many movies were made in 1950? 1980? 2000? What conclusions can you draw from these data points?"
   ]
  },
  {
   "cell_type": "code",
   "execution_count": 163,
   "id": "8d44bdb2",
   "metadata": {},
   "outputs": [
    {
     "data": {
      "image/png": "[encoded data removed]",
      "text/plain": [
       "<Figure size 640x480 with 1 Axes>"
      ]
     },
     "metadata": {},
     "output_type": "display_data"
    }
   ],
   "source": [
    "filt_title = titles[(titles['year'] == 1970) | (titles['year'] == 1980) | (titles['year'] == 2000)]\n",
    "grouped = filt_title.groupby('year').count()\n",
    "grouped.title.plot();\n"
   ]
  },
  {
   "cell_type": "markdown",
   "id": "bda57a37-86c8-4e01-bd03-f10fa72c9859",
   "metadata": {},
   "source": [
    "There was a large drop in movies released from 1970 to 1980, and then a huge jump from 1980 to 2000. This could have been due to a drop in consumer interest, or shifts in media outputs (ex. shifting from films to TV shows)."
   ]
  },
  {
   "cell_type": "markdown",
   "id": "0c34799c",
   "metadata": {},
   "source": [
    "### 6. How big was the cast of Metropolis\n"
   ]
  },
  {
   "cell_type": "code",
   "execution_count": 29,
   "id": "4461cc46",
   "metadata": {},
   "outputs": [
    {
     "data": {
      "text/html": [
       "<div>\n",
       "<style scoped>\n",
       "    .dataframe tbody tr th:only-of-type {\n",
       "        vertical-align: middle;\n",
       "    }\n",
       "\n",
       "    .dataframe tbody tr th {\n",
       "        vertical-align: top;\n",
       "    }\n",
       "\n",
       "    .dataframe thead th {\n",
       "        text-align: right;\n",
       "    }\n",
       "</style>\n",
       "<table border=\"1\" class=\"dataframe\">\n",
       "  <thead>\n",
       "    <tr style=\"text-align: right;\">\n",
       "      <th></th>\n",
       "      <th>name</th>\n",
       "      <th>character</th>\n",
       "    </tr>\n",
       "  </thead>\n",
       "  <tbody>\n",
       "    <tr>\n",
       "      <th>3416</th>\n",
       "      <td>Alfred Abel</td>\n",
       "      <td>Joh Fredersen</td>\n",
       "    </tr>\n",
       "    <tr>\n",
       "      <th>2759815</th>\n",
       "      <td>Anny Hintze</td>\n",
       "      <td>Woman of Eternal Gardens</td>\n",
       "    </tr>\n",
       "    <tr>\n",
       "      <th>1736598</th>\n",
       "      <td>Arthur Reinhardt</td>\n",
       "      <td>Working Man</td>\n",
       "    </tr>\n",
       "    <tr>\n",
       "      <th>2672124</th>\n",
       "      <td>Beatrice Garga</td>\n",
       "      <td>Woman of Eternal Gardens</td>\n",
       "    </tr>\n",
       "    <tr>\n",
       "      <th>2748717</th>\n",
       "      <td>Brigitte Helm</td>\n",
       "      <td>Maria</td>\n",
       "    </tr>\n",
       "    <tr>\n",
       "      <th>2748716</th>\n",
       "      <td>Brigitte Helm</td>\n",
       "      <td>The Machine Man</td>\n",
       "    </tr>\n",
       "    <tr>\n",
       "      <th>1935963</th>\n",
       "      <td>Curt Siodmak</td>\n",
       "      <td>Working Man</td>\n",
       "    </tr>\n",
       "    <tr>\n",
       "      <th>2709135</th>\n",
       "      <td>Dolly Grey</td>\n",
       "      <td>Working Woman</td>\n",
       "    </tr>\n",
       "    <tr>\n",
       "      <th>2658590</th>\n",
       "      <td>Ellen Frey</td>\n",
       "      <td>Working Woman</td>\n",
       "    </tr>\n",
       "    <tr>\n",
       "      <th>193089</th>\n",
       "      <td>Erwin Biswanger</td>\n",
       "      <td>11811 - Georgy</td>\n",
       "    </tr>\n",
       "    <tr>\n",
       "      <th>2145535</th>\n",
       "      <td>Erwin Vater</td>\n",
       "      <td>Working Man</td>\n",
       "    </tr>\n",
       "    <tr>\n",
       "      <th>26389</th>\n",
       "      <td>Fritz Alberti</td>\n",
       "      <td>Creative Human - Man who Convinces Babel</td>\n",
       "    </tr>\n",
       "    <tr>\n",
       "      <th>1719286</th>\n",
       "      <td>Fritz Rasp</td>\n",
       "      <td>The Thin Man</td>\n",
       "    </tr>\n",
       "    <tr>\n",
       "      <th>1015520</th>\n",
       "      <td>Georg John</td>\n",
       "      <td>Working Man Who Causes Explosion of M-Machine</td>\n",
       "    </tr>\n",
       "    <tr>\n",
       "      <th>2402830</th>\n",
       "      <td>Grete Berger</td>\n",
       "      <td>Working Woman</td>\n",
       "    </tr>\n",
       "    <tr>\n",
       "      <th>709318</th>\n",
       "      <td>Gustav Fröhlich</td>\n",
       "      <td>Freder - Joh Fredersen's Son</td>\n",
       "    </tr>\n",
       "    <tr>\n",
       "      <th>1734020</th>\n",
       "      <td>Hanns Leo Reich</td>\n",
       "      <td>Marinus</td>\n",
       "    </tr>\n",
       "    <tr>\n",
       "      <th>747304</th>\n",
       "      <td>Heinrich George</td>\n",
       "      <td>Grot - the Guardian of the Heart Machine</td>\n",
       "    </tr>\n",
       "    <tr>\n",
       "      <th>789295</th>\n",
       "      <td>Heinrich Gotho</td>\n",
       "      <td>Master of Ceremonies</td>\n",
       "    </tr>\n",
       "    <tr>\n",
       "      <th>3373844</th>\n",
       "      <td>Helen von Münchofen</td>\n",
       "      <td>Woman of Eternal Gardens</td>\n",
       "    </tr>\n",
       "    <tr>\n",
       "      <th>3391926</th>\n",
       "      <td>Helene Weigel</td>\n",
       "      <td>Working Woman</td>\n",
       "    </tr>\n",
       "    <tr>\n",
       "      <th>3256276</th>\n",
       "      <td>Henrietta Siodmak</td>\n",
       "      <td>Working Woman</td>\n",
       "    </tr>\n",
       "    <tr>\n",
       "      <th>3413805</th>\n",
       "      <td>Hilde Woitscheff</td>\n",
       "      <td>Woman of Eternal Gardens</td>\n",
       "    </tr>\n",
       "    <tr>\n",
       "      <th>2881041</th>\n",
       "      <td>Margarete Lanner</td>\n",
       "      <td>Lady in Car</td>\n",
       "    </tr>\n",
       "    <tr>\n",
       "      <th>2881042</th>\n",
       "      <td>Margarete Lanner</td>\n",
       "      <td>Woman of Eternal Gardens</td>\n",
       "    </tr>\n",
       "    <tr>\n",
       "      <th>542995</th>\n",
       "      <td>Max Dietze</td>\n",
       "      <td>Working Man</td>\n",
       "    </tr>\n",
       "    <tr>\n",
       "      <th>2006109</th>\n",
       "      <td>Olaf Storm</td>\n",
       "      <td>Jan</td>\n",
       "    </tr>\n",
       "    <tr>\n",
       "      <th>2422158</th>\n",
       "      <td>Olly Boeheim</td>\n",
       "      <td>Working Woman</td>\n",
       "    </tr>\n",
       "    <tr>\n",
       "      <th>2172908</th>\n",
       "      <td>Rolf von Goth</td>\n",
       "      <td>Son in Eternal Gardens</td>\n",
       "    </tr>\n",
       "    <tr>\n",
       "      <th>2908248</th>\n",
       "      <td>Rose Lichtenstein</td>\n",
       "      <td>Working Woman</td>\n",
       "    </tr>\n",
       "    <tr>\n",
       "      <th>1110313</th>\n",
       "      <td>Rudolf Klein-Rogge</td>\n",
       "      <td>C.A. Rotwang - the Inventor</td>\n",
       "    </tr>\n",
       "    <tr>\n",
       "      <th>1246757</th>\n",
       "      <td>Theodor Loos</td>\n",
       "      <td>Josaphat</td>\n",
       "    </tr>\n",
       "    <tr>\n",
       "      <th>1141892</th>\n",
       "      <td>Walter Kuehle</td>\n",
       "      <td>Working Man</td>\n",
       "    </tr>\n",
       "  </tbody>\n",
       "</table>\n",
       "</div>"
      ],
      "text/plain": [
       "                        name                                      character\n",
       "3416             Alfred Abel                                  Joh Fredersen\n",
       "2759815          Anny Hintze                       Woman of Eternal Gardens\n",
       "1736598     Arthur Reinhardt                                    Working Man\n",
       "2672124       Beatrice Garga                       Woman of Eternal Gardens\n",
       "2748717        Brigitte Helm                                          Maria\n",
       "2748716        Brigitte Helm                                The Machine Man\n",
       "1935963         Curt Siodmak                                    Working Man\n",
       "2709135           Dolly Grey                                  Working Woman\n",
       "2658590           Ellen Frey                                  Working Woman\n",
       "193089       Erwin Biswanger                                 11811 - Georgy\n",
       "2145535          Erwin Vater                                    Working Man\n",
       "26389          Fritz Alberti       Creative Human - Man who Convinces Babel\n",
       "1719286           Fritz Rasp                                   The Thin Man\n",
       "1015520           Georg John  Working Man Who Causes Explosion of M-Machine\n",
       "2402830         Grete Berger                                  Working Woman\n",
       "709318       Gustav Fröhlich                   Freder - Joh Fredersen's Son\n",
       "1734020      Hanns Leo Reich                                        Marinus\n",
       "747304       Heinrich George       Grot - the Guardian of the Heart Machine\n",
       "789295        Heinrich Gotho                           Master of Ceremonies\n",
       "3373844  Helen von Münchofen                       Woman of Eternal Gardens\n",
       "3391926        Helene Weigel                                  Working Woman\n",
       "3256276    Henrietta Siodmak                                  Working Woman\n",
       "3413805     Hilde Woitscheff                       Woman of Eternal Gardens\n",
       "2881041     Margarete Lanner                                    Lady in Car\n",
       "2881042     Margarete Lanner                       Woman of Eternal Gardens\n",
       "542995            Max Dietze                                    Working Man\n",
       "2006109           Olaf Storm                                            Jan\n",
       "2422158         Olly Boeheim                                  Working Woman\n",
       "2172908        Rolf von Goth                         Son in Eternal Gardens\n",
       "2908248    Rose Lichtenstein                                  Working Woman\n",
       "1110313   Rudolf Klein-Rogge                    C.A. Rotwang - the Inventor\n",
       "1246757         Theodor Loos                                       Josaphat\n",
       "1141892        Walter Kuehle                                    Working Man"
      ]
     },
     "execution_count": 29,
     "metadata": {},
     "output_type": "execute_result"
    }
   ],
   "source": [
    "cast[cast['title'] == 'Metropolis'][['name','character']].sort_values('name')"
   ]
  },
  {
   "cell_type": "code",
   "execution_count": 30,
   "id": "d43aa7f6",
   "metadata": {},
   "outputs": [
    {
     "name": "stdout",
     "output_type": "stream",
     "text": [
      "There were 31 cast members in Metropolis\n"
     ]
    }
   ],
   "source": [
    "members = cast_copy[cast_copy['title'] == 'Metropolis']['name'].nunique()\n",
    "print(f'There were {members} cast members in Metropolis')"
   ]
  },
  {
   "cell_type": "markdown",
   "id": "7dead3d7",
   "metadata": {},
   "source": [
    "### 7. How many roles for actors were there 1950's? 1990's"
   ]
  },
  {
   "cell_type": "code",
   "execution_count": 166,
   "id": "9f7336d3",
   "metadata": {},
   "outputs": [
    {
     "name": "stdout",
     "output_type": "stream",
     "text": [
      "There were 153559 actors in the 1950s\n"
     ]
    }
   ],
   "source": [
    "cast_copy['decade'] = cast_copy['year'] // 10 * 10\n",
    "actors_50 = cast_copy[(cast_copy['type'] == 'actor') & (cast_copy['decade'] == 1950)]['character'].count()\n",
    "print(f'There were {actors_50} actors in the 1950s')"
   ]
  },
  {
   "cell_type": "code",
   "execution_count": 168,
   "id": "00ae840e-225e-4269-9a0d-f4f6ee20d151",
   "metadata": {},
   "outputs": [
    {
     "name": "stdout",
     "output_type": "stream",
     "text": [
      "There were 245713 actors in the 1990s\n"
     ]
    }
   ],
   "source": [
    "actors_90 = cast_copy[(cast_copy['type'] == 'actor') & (cast_copy['decade'] == 1990)]['character'].count()\n",
    "print(f'There were {actors_90} actors in the 1990s')"
   ]
  },
  {
   "cell_type": "markdown",
   "id": "3c5ad9f2",
   "metadata": {},
   "source": [
    "### 8. How many roles for actors & actresses over time? Output should be a line graph"
   ]
  },
  {
   "cell_type": "code",
   "execution_count": 35,
   "id": "a4401c78",
   "metadata": {},
   "outputs": [
    {
     "data": {
      "text/plain": [
       "<Axes: xlabel='year'>"
      ]
     },
     "execution_count": 35,
     "metadata": {},
     "output_type": "execute_result"
    },
    {
     "data": {
      "image/png": "[encoded data removed]",
      "text/plain": [
       "<Figure size 640x480 with 1 Axes>"
      ]
     },
     "metadata": {},
     "output_type": "display_data"
    }
   ],
   "source": [
    "cast_copy[['year', 'type']].value_counts().sort_index().unstack().plot()"
   ]
  },
  {
   "cell_type": "markdown",
   "id": "5e3a04c7",
   "metadata": {},
   "source": [
    "### 9. How many \"leading roles\" were there in the 2000's?"
   ]
  },
  {
   "cell_type": "code",
   "execution_count": 170,
   "id": "01cc5e7f",
   "metadata": {},
   "outputs": [
    {
     "name": "stdout",
     "output_type": "stream",
     "text": [
      "There were 23593 leading roles in the 2000s\n"
     ]
    }
   ],
   "source": [
    "lead_roles = cast_copy[(cast_copy['decade'] == 2000) & (cast_copy['n'] == 1)]['title'].count()\n",
    "print(f'There were {lead_roles} leading roles in the 2000s')"
   ]
  },
  {
   "cell_type": "markdown",
   "id": "a60c91b4",
   "metadata": {},
   "source": [
    "### 10. How many roles received no ranking in the 2000's? 1950's. What conclusions can you draw from these two data points?"
   ]
  },
  {
   "cell_type": "code",
   "execution_count": 39,
   "id": "4b729250",
   "metadata": {},
   "outputs": [
    {
     "name": "stdout",
     "output_type": "stream",
     "text": [
      " There were a total of 232037 roles not ranked in the 2000s, which comprised 52.3% of all roles\n",
      " There were a total of 95406 roles not ranked in the 1950s, which comprised 83.3% of all roles\n"
     ]
    }
   ],
   "source": [
    "no_rank_2000 = cast_copy[(cast_copy['decade'] == 2000)]['n'].isna().sum()\n",
    "no_rank_1950 = cast_copy[(cast_copy['decade'] == 1950)]['n'].isna().sum()\n",
    "pct_no_rank_2000 = (no_rank_2000 / (cast_copy[(cast_copy['decade'] == 2000)]['n'].count())) * 100\n",
    "pct_no_rank_1950 = (no_rank_1950 / (cast_copy[(cast_copy['decade'] == 1950)]['n'].count())) * 100\n",
    "\n",
    "print(f' There were a total of {no_rank_2000} roles not ranked in the 2000s, which comprised {pct_no_rank_2000:0.1f}% of all roles')\n",
    "print(f' There were a total of {no_rank_1950} roles not ranked in the 1950s, which comprised {pct_no_rank_1950:0.1f}% of all roles')"
   ]
  },
  {
   "cell_type": "markdown",
   "id": "33d9c249",
   "metadata": {},
   "source": [
    "### 11. Plot the number of films made in each decade"
   ]
  },
  {
   "cell_type": "code",
   "execution_count": 41,
   "id": "3f6c5b5a",
   "metadata": {},
   "outputs": [
    {
     "data": {
      "text/plain": [
       "<Axes: xlabel='decade'>"
      ]
     },
     "execution_count": 41,
     "metadata": {},
     "output_type": "execute_result"
    },
    {
     "data": {
      "image/png": "[encoded data removed]",
      "text/plain": [
       "<Figure size 640x480 with 1 Axes>"
      ]
     },
     "metadata": {},
     "output_type": "display_data"
    }
   ],
   "source": [
    "titles_copy = titles[titles.year < 2018].copy()\n",
    "titles_copy['decade'].value_counts().sort_index().plot()"
   ]
  },
  {
   "cell_type": "markdown",
   "id": "7b8b93e3",
   "metadata": {},
   "source": [
    "### 12. Plot the number of films with a Rustler character over time"
   ]
  },
  {
   "cell_type": "code",
   "execution_count": 43,
   "id": "ed1bce02",
   "metadata": {},
   "outputs": [
    {
     "data": {
      "text/plain": [
       "<Axes: xlabel='year'>"
      ]
     },
     "execution_count": 43,
     "metadata": {},
     "output_type": "execute_result"
    },
    {
     "data": {
      "image/png": "[encoded data removed]",
      "text/plain": [
       "<Figure size 640x480 with 1 Axes>"
      ]
     },
     "metadata": {},
     "output_type": "display_data"
    }
   ],
   "source": [
    "temp_df = cast_copy.copy()\n",
    "temp_df = temp_df.dropna()\n",
    "temp_df = temp_df[temp_df['character'].str.contains('Rustler', case=False)]\n",
    "temp_df['year'].value_counts().sort_index().plot()\n",
    "\n"
   ]
  },
  {
   "cell_type": "markdown",
   "id": "1df5a8a7",
   "metadata": {},
   "source": [
    "### 13. What are the top ten character names of all time?"
   ]
  },
  {
   "cell_type": "code",
   "execution_count": 45,
   "id": "fc30c391",
   "metadata": {},
   "outputs": [
    {
     "name": "stdout",
     "output_type": "stream",
     "text": [
      "character\n",
      "Himself        19418\n",
      "Dancer         11937\n",
      "Extra          10715\n",
      "Reporter        7739\n",
      "Doctor          6917\n",
      "Party Guest     6744\n",
      "Student         6486\n",
      "Policeman       6409\n",
      "Bartender       6228\n",
      "Minor Role      6203\n",
      "Name: count, dtype: int64\n"
     ]
    }
   ],
   "source": [
    "print(cast_copy['character'].value_counts().head(10))"
   ]
  },
  {
   "cell_type": "markdown",
   "id": "febd5c97",
   "metadata": {},
   "source": [
    "### 14. Which actor appeared in the most films in the 1990's decade?"
   ]
  },
  {
   "cell_type": "code",
   "execution_count": 174,
   "id": "ed10c4df",
   "metadata": {},
   "outputs": [
    {
     "data": {
      "text/plain": [
       "name\n",
       "Shakti Kapoor    143\n",
       "Name: count, dtype: int64"
      ]
     },
     "execution_count": 174,
     "metadata": {},
     "output_type": "execute_result"
    }
   ],
   "source": [
    "cast_copy[cast_copy['decade'] == 1990]['name'].value_counts().head(1)"
   ]
  },
  {
   "cell_type": "markdown",
   "id": "b2d57a18",
   "metadata": {},
   "source": [
    "### 15. What are the top 10 roles that start with Science?"
   ]
  },
  {
   "cell_type": "code",
   "execution_count": 208,
   "id": "ce1c2d13-64c6-4580-9cff-ecab0f19234e",
   "metadata": {},
   "outputs": [
    {
     "data": {
      "text/plain": [
       "character\n",
       "Science Teacher         57\n",
       "Science Fair Student     9\n",
       "Science Student          6\n",
       "Science Kid              5\n",
       "Science Fair Kid         5\n",
       "Science Fair Judge       5\n",
       "Science Reporter         5\n",
       "Science                  4\n",
       "Science Officer          3\n",
       "Science teacher          3\n",
       "Name: count, dtype: int64"
      ]
     },
     "execution_count": 208,
     "metadata": {},
     "output_type": "execute_result"
    }
   ],
   "source": [
    "science_roles = cast_copy[cast_copy['character'].str.startswith('Science', na=False)]['character'].value_counts()\n",
    "science_roles.iloc[:10]"
   ]
  },
  {
   "cell_type": "markdown",
   "id": "7e37caf3",
   "metadata": {},
   "source": [
    "### 16. What film has the largest cast"
   ]
  },
  {
   "cell_type": "code",
   "execution_count": 51,
   "id": "1de674fc",
   "metadata": {},
   "outputs": [
    {
     "name": "stdout",
     "output_type": "stream",
     "text": [
      "Around the World in 80 Days has the largest cast with 1364 cast members\n"
     ]
    }
   ],
   "source": [
    "grouped = cast_copy.groupby('title').agg('count').sort_values(by='name',ascending=False)\n",
    "largest_cast = grouped.index[0]\n",
    "cast_count = grouped['name'].max()\n",
    "print(f'{largest_cast} has the largest cast with {cast_count} cast members')"
   ]
  },
  {
   "cell_type": "markdown",
   "id": "3a1a26ba",
   "metadata": {},
   "source": [
    "### 17. Generate descriptive statistics for cast size. Briefly comment on the results"
   ]
  },
  {
   "cell_type": "code",
   "execution_count": 53,
   "id": "b0592c92",
   "metadata": {},
   "outputs": [
    {
     "data": {
      "text/plain": [
       "count    164653.000000\n",
       "mean         20.635591\n",
       "std          24.174382\n",
       "min           1.000000\n",
       "25%           6.000000\n",
       "50%          13.000000\n",
       "75%          26.000000\n",
       "max        1364.000000\n",
       "Name: count, dtype: float64"
      ]
     },
     "execution_count": 53,
     "metadata": {},
     "output_type": "execute_result"
    }
   ],
   "source": [
    "cast_count = cast_copy['title'].value_counts()\n",
    "cast_count.describe()"
   ]
  },
  {
   "cell_type": "markdown",
   "id": "f14d7770-e6e7-4712-a6cd-a1e7d2257e82",
   "metadata": {},
   "source": [
    "For the films included in the \"Cast\" dataset, the movie with the largest cast had 1364 members, while the smallest cast only included 1 member. Films in the dataset have an average of 21 cast members and a median of 13. Films have a standard deviation of ~24 cast members, meaning that 67% of films had between 1 and 45 members. "
   ]
  },
  {
   "cell_type": "markdown",
   "id": "57885f86",
   "metadata": {},
   "source": [
    "### 18. How many films has Natalie Portman been in in each year throughout her career?"
   ]
  },
  {
   "cell_type": "code",
   "execution_count": 55,
   "id": "e2457352",
   "metadata": {},
   "outputs": [
    {
     "data": {
      "text/plain": [
       "year\n",
       "1995    1\n",
       "1996    3\n",
       "1999    3\n",
       "2000    1\n",
       "2001    1\n",
       "2002    1\n",
       "2003    1\n",
       "2004    2\n",
       "2005    4\n",
       "2006    2\n",
       "2007    3\n",
       "2008    1\n",
       "2009    2\n",
       "2010    4\n",
       "2011    3\n",
       "2013    1\n",
       "2015    4\n",
       "2016    3\n",
       "2017    1\n",
       "Name: count, dtype: int64"
      ]
     },
     "execution_count": 55,
     "metadata": {},
     "output_type": "execute_result"
    }
   ],
   "source": [
    "cast_copy[cast_copy['name'] == 'Natalie Portman']['year'].value_counts().sort_index()"
   ]
  },
  {
   "cell_type": "markdown",
   "id": "1bff19c5",
   "metadata": {},
   "source": [
    "### 19. How many films did Natalie Portman appear in each year where where she was either the top star or co-star?"
   ]
  },
  {
   "cell_type": "code",
   "execution_count": 57,
   "id": "e2f4d043",
   "metadata": {},
   "outputs": [
    {
     "data": {
      "text/plain": [
       "year\n",
       "1999    1\n",
       "2000    1\n",
       "2002    1\n",
       "2005    3\n",
       "2006    2\n",
       "2007    1\n",
       "2008    1\n",
       "2009    1\n",
       "2010    2\n",
       "2011    2\n",
       "2013    1\n",
       "2015    2\n",
       "2016    2\n",
       "Name: count, dtype: int64"
      ]
     },
     "execution_count": 57,
     "metadata": {},
     "output_type": "execute_result"
    }
   ],
   "source": [
    "cast_copy[(cast_copy['name'] == 'Natalie Portman') & (cast_copy['n'] <= 2)]['year'].value_counts().sort_index()"
   ]
  },
  {
   "cell_type": "markdown",
   "id": "8eda704b",
   "metadata": {},
   "source": [
    "### 20. Determine how many roles for actor or actress by decade. Plot the output "
   ]
  },
  {
   "cell_type": "code",
   "execution_count": 59,
   "id": "6abd6fe1",
   "metadata": {},
   "outputs": [
    {
     "data": {
      "text/plain": [
       "<Axes: xlabel='decade'>"
      ]
     },
     "execution_count": 59,
     "metadata": {},
     "output_type": "execute_result"
    },
    {
     "data": {
      "image/png": "[encoded data removed]",
      "text/plain": [
       "<Figure size 640x480 with 1 Axes>"
      ]
     },
     "metadata": {},
     "output_type": "display_data"
    }
   ],
   "source": [
    "cast_copy[['decade', 'type']].value_counts().sort_index().unstack().plot()"
   ]
  },
  {
   "cell_type": "markdown",
   "id": "fffe663b",
   "metadata": {},
   "source": [
    "### 21. Determine and comment on the day of the week that movies are released. What is notable about release days and months throughout the year? (Use pd.pivot_table)"
   ]
  },
  {
   "cell_type": "code",
   "execution_count": 61,
   "id": "5d3f6e03",
   "metadata": {},
   "outputs": [],
   "source": [
    "from datetime import datetime as dt\n",
    "date_copy = r_dates.copy()\n",
    "date_copy['date'] = pd.to_datetime(date_copy['date'])\n",
    "date_copy['Day'] = date_copy['date'].dt.day_name()\n",
    "date_copy['Month'] = date_copy['date'].dt.month_name()"
   ]
  },
  {
   "cell_type": "code",
   "execution_count": 114,
   "id": "2f181198-f3d8-420a-a454-c815e4a7c817",
   "metadata": {},
   "outputs": [
    {
     "name": "stdout",
     "output_type": "stream",
     "text": [
      "            title\n",
      "Day              \n",
      "Friday     163174\n",
      "Thursday   125746\n",
      "Wednesday   53439\n",
      "Monday      37210\n",
      "Saturday    31331\n",
      "Tuesday     16762\n",
      "Sunday      15823\n",
      "           title\n",
      "Month           \n",
      "March      40257\n",
      "October    40204\n",
      "January    39412\n",
      "December   39096\n",
      "November   38200\n",
      "September  37750\n",
      "April      37674\n",
      "February   36307\n",
      "May        35449\n",
      "August     35011\n",
      "June       32704\n",
      "July       31421\n"
     ]
    }
   ],
   "source": [
    "pivot1 = date_copy.pivot_table(index='Day', values='title', aggfunc='count').sort_values(by='title', ascending=False)\n",
    "pivot2 = date_copy.pivot_table(index='Month', values='title', aggfunc='count').sort_values(by='title', ascending=False)\n",
    "\n",
    "print(pivot1)\n",
    "print(pivot2)"
   ]
  },
  {
   "cell_type": "markdown",
   "id": "f1eda2c7-3e49-496d-a3ca-cb44ae7364b4",
   "metadata": {},
   "source": [
    "Movies are predominantly released on Thursdays and Fridays, with the fewest movies released on Sundays and Tuesdays. It makes since that movies are most often release on Fridays, since Friday night is the transition into the weekend when people are likely free and willing to have a later night out. \n",
    "\n",
    "There is not as significant of difference in spread between release month, and the top four months see similar numbers of move releases. It makes sense that the summer months of June - August have the fewest releases, since people are taking vacation and more likely to have plans that would interfere with going to the movies. "
   ]
  },
  {
   "cell_type": "markdown",
   "id": "88b4b805",
   "metadata": {},
   "source": [
    "### 22. Can you plot the pivot table? Is the output \"correct\"? Can you fix it?"
   ]
  },
  {
   "cell_type": "code",
   "execution_count": 124,
   "id": "07152c8b",
   "metadata": {},
   "outputs": [
    {
     "data": {
      "text/plain": [
       "<BarContainer object of 7 artists>"
      ]
     },
     "execution_count": 124,
     "metadata": {},
     "output_type": "execute_result"
    },
    {
     "data": {
      "image/png": "[encoded data removed]",
      "text/plain": [
       "<Figure size 640x480 with 1 Axes>"
      ]
     },
     "metadata": {},
     "output_type": "display_data"
    }
   ],
   "source": [
    "fig, ax = plt.subplots()\n",
    "ax.bar(pivot1.index, pivot1['title'])"
   ]
  },
  {
   "cell_type": "markdown",
   "id": "19fc8bc4",
   "metadata": {},
   "source": [
    "### 23. What films did actors in Star Wars go on to appear in? "
   ]
  },
  {
   "cell_type": "code",
   "execution_count": 142,
   "id": "35e5f456",
   "metadata": {},
   "outputs": [],
   "source": [
    "sw_cast = cast_copy[cast_copy['title'].str.contains('Star Wars', case=False, na=False)]['name'].unique()\n",
    "sw_cast = sw_cast.tolist()"
   ]
  },
  {
   "cell_type": "code",
   "execution_count": 150,
   "id": "2de76e6c",
   "metadata": {},
   "outputs": [
    {
     "data": {
      "text/html": [
       "<div>\n",
       "<style scoped>\n",
       "    .dataframe tbody tr th:only-of-type {\n",
       "        vertical-align: middle;\n",
       "    }\n",
       "\n",
       "    .dataframe tbody tr th {\n",
       "        vertical-align: top;\n",
       "    }\n",
       "\n",
       "    .dataframe thead th {\n",
       "        text-align: right;\n",
       "    }\n",
       "</style>\n",
       "<table border=\"1\" class=\"dataframe\">\n",
       "  <thead>\n",
       "    <tr style=\"text-align: right;\">\n",
       "      <th></th>\n",
       "      <th>name</th>\n",
       "      <th>title</th>\n",
       "    </tr>\n",
       "  </thead>\n",
       "  <tbody>\n",
       "    <tr>\n",
       "      <th>3900</th>\n",
       "      <td>Ian Abercrombie</td>\n",
       "      <td>Addams Family Values</td>\n",
       "    </tr>\n",
       "    <tr>\n",
       "      <th>3901</th>\n",
       "      <td>Ian Abercrombie</td>\n",
       "      <td>Blasphemy the Movie</td>\n",
       "    </tr>\n",
       "    <tr>\n",
       "      <th>3902</th>\n",
       "      <td>Ian Abercrombie</td>\n",
       "      <td>Chromiumblue.com</td>\n",
       "    </tr>\n",
       "    <tr>\n",
       "      <th>3903</th>\n",
       "      <td>Ian Abercrombie</td>\n",
       "      <td>Clean Slate</td>\n",
       "    </tr>\n",
       "    <tr>\n",
       "      <th>3904</th>\n",
       "      <td>Ian Abercrombie</td>\n",
       "      <td>Firewalker</td>\n",
       "    </tr>\n",
       "    <tr>\n",
       "      <th>...</th>\n",
       "      <td>...</td>\n",
       "      <td>...</td>\n",
       "    </tr>\n",
       "    <tr>\n",
       "      <th>3419580</th>\n",
       "      <td>Kristy Wright</td>\n",
       "      <td>Enemies Closer</td>\n",
       "    </tr>\n",
       "    <tr>\n",
       "      <th>3419581</th>\n",
       "      <td>Kristy Wright</td>\n",
       "      <td>Star Wars: Episode III - Revenge of the Sith</td>\n",
       "    </tr>\n",
       "    <tr>\n",
       "      <th>3419582</th>\n",
       "      <td>Kristy Wright</td>\n",
       "      <td>Stranded Pearl</td>\n",
       "    </tr>\n",
       "    <tr>\n",
       "      <th>3419583</th>\n",
       "      <td>Kristy Wright</td>\n",
       "      <td>The Crop</td>\n",
       "    </tr>\n",
       "    <tr>\n",
       "      <th>3427205</th>\n",
       "      <td>Phoebe Yiamkiati</td>\n",
       "      <td>Star Wars: Episode II - Attack of the Clones</td>\n",
       "    </tr>\n",
       "  </tbody>\n",
       "</table>\n",
       "<p>7870 rows × 2 columns</p>\n",
       "</div>"
      ],
      "text/plain": [
       "                     name                                         title\n",
       "3900      Ian Abercrombie                          Addams Family Values\n",
       "3901      Ian Abercrombie                           Blasphemy the Movie\n",
       "3902      Ian Abercrombie                              Chromiumblue.com\n",
       "3903      Ian Abercrombie                                   Clean Slate\n",
       "3904      Ian Abercrombie                                    Firewalker\n",
       "...                   ...                                           ...\n",
       "3419580     Kristy Wright                                Enemies Closer\n",
       "3419581     Kristy Wright  Star Wars: Episode III - Revenge of the Sith\n",
       "3419582     Kristy Wright                                Stranded Pearl\n",
       "3419583     Kristy Wright                                      The Crop\n",
       "3427205  Phoebe Yiamkiati  Star Wars: Episode II - Attack of the Clones\n",
       "\n",
       "[7870 rows x 2 columns]"
      ]
     },
     "execution_count": 150,
     "metadata": {},
     "output_type": "execute_result"
    }
   ],
   "source": [
    "sw_cast_titles = cast_copy[cast_copy['name'].isin(sw_cast)]\n",
    "sw_cast_titles[['name', 'title']]"
   ]
  }
 ],
 "metadata": {
  "kernelspec": {
   "display_name": "Python 3 (ipykernel)",
   "language": "python",
   "name": "python3"
  },
  "language_info": {
   "codemirror_mode": {
    "name": "ipython",
    "version": 3
   },
   "file_extension": ".py",
   "mimetype": "text/x-python",
   "name": "python",
   "nbconvert_exporter": "python",
   "pygments_lexer": "ipython3",
   "version": "3.12.4"
  }
 },
 "nbformat": 4,
 "nbformat_minor": 5
}
